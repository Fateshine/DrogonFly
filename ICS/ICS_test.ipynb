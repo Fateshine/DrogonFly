{
 "cells": [
  {
   "cell_type": "code",
   "execution_count": 7,
   "metadata": {},
   "outputs": [],
   "source": [
    "import pandas as pd\n",
    "import paho.mqtt.client as mqtt\n",
    "from pymongo import MongoClient\n",
    "task = [pd.DataFrame()]*3\n",
    "client = MongoClient(\"mongodb://140.114.89.210:27017/\")\n",
    "mydb = client[\"Command\"]\n",
    "collection_win = mydb.wins\n",
    "collection_tasks=mydb.tasks\n",
    "collection_drone=mydb.drones\n",
    "task[0] = pd.DataFrame(list(collection_tasks.find())).query('event==\"win\"')\n",
    "task[1] = pd.DataFrame(list(collection_tasks.find())).query('event==\"fire\"')\n",
    "task[2] = pd.DataFrame(list(collection_tasks.find())).query('event==\"hum\"')"
   ]
  },
  {
   "cell_type": "code",
   "execution_count": 8,
   "metadata": {},
   "outputs": [
    {
     "name": "stdout",
     "output_type": "stream",
     "text": [
      "Connected with result code 0\n"
     ]
    },
    {
     "name": "stdout",
     "output_type": "stream",
     "text": [
      "task has been update\n"
     ]
    }
   ],
   "source": [
    "\n",
    "def on_connect(client, userdata, flags, rc):\n",
    "    print(\"Connected with result code \"+str(rc))\n",
    "    client.subscribe(\"task\", 0)\n",
    "\n",
    "def on_message(client, userdata, msg):\n",
    "    print(msg.payload.decode('utf-8'))\n",
    "    topic=msg.topic\n",
    "    msg=msg.payload.decode('utf-8').split(\",\")\n",
    "    if topic == \"task\":\n",
    "        task[0] = pd.DataFrame(list(collection_tasks.find())).query('event==\"win\"')\n",
    "        task[1] = pd.DataFrame(list(collection_tasks.find())).query('event==\"fire\"')\n",
    "        task[2] = pd.DataFrame(list(collection_tasks.find())).query('event==\"hum\"')\n",
    "        record={\"id\":23,\"x\":13,\"y\":21,\"z\":39}\n",
    "        collection_drone.insert_one(record)\n",
    "        client.publish(\"drone\", \"drone has been update\")\n",
    "client = mqtt.Client()\n",
    "client.on_connect = on_connect\n",
    "client.on_message = on_message\n",
    "client.connect(\"127.0.0.1\", 1883)\n",
    "client.loop_start()"
   ]
  }
 ],
 "metadata": {
  "kernelspec": {
   "display_name": "Python 3.9.12 ('base')",
   "language": "python",
   "name": "python3"
  },
  "language_info": {
   "codemirror_mode": {
    "name": "ipython",
    "version": 3
   },
   "file_extension": ".py",
   "mimetype": "text/x-python",
   "name": "python",
   "nbconvert_exporter": "python",
   "pygments_lexer": "ipython3",
   "version": "3.9.12"
  },
  "orig_nbformat": 4,
  "vscode": {
   "interpreter": {
    "hash": "3a59364609d61c8dae0f9db56fceb1a6c4763fc832e1458cde90be890e1c034b"
   }
  }
 },
 "nbformat": 4,
 "nbformat_minor": 2
}
